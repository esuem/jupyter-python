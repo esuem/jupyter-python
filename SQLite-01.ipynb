{
 "cells": [
  {
   "cell_type": "markdown",
   "metadata": {},
   "source": [
    "# Pengelolaan dasar _database_ SQLite dengan python 3"
   ]
  },
  {
   "cell_type": "markdown",
   "metadata": {},
   "source": [
    "by **Sigit Sumarsono** \\(\n",
    "[@Sumarsono](www.github.com/sumarsono) \n",
    "or @gitsumarsono \\)"
   ]
  },
  {
   "cell_type": "markdown",
   "metadata": {},
   "source": [
    "## Mengenal SQLite"
   ]
  },
  {
   "cell_type": "markdown",
   "metadata": {},
   "source": [
    "SQLite adalah salah satu implementasi _Standard Query Language_ yang dibuat dengan bahasa pemrograman C. Berbeda dengan SQL lainnya, SQLite bukan merupakan SQL berbasis _Client-Server_ sehingga SQLite sangat ringan tidak memerlukan konfigurasi dalam penggunaannya. Anda cukup membuka menggunakanan aplikasi yang mendukung semisal [DB Browser for SQLite](https://sqlitebrowser.org/). Anda juga dapat menggunakan bahasa pemrograman python untuk mengolah _database_ dengan bantuan library _sqlite3_ yang umumnya sudah terinstall bersamaan ketika anda menginstall python 3."
   ]
  },
  {
   "cell_type": "markdown",
   "metadata": {},
   "source": [
    "## Mempersiapkan Library Python"
   ]
  },
  {
   "cell_type": "code",
   "execution_count": 1,
   "metadata": {},
   "outputs": [],
   "source": [
    "# import library sqlite3\n",
    "import sqlite3\n",
    "\n",
    "# menyiapkan koneksi untuk membuat database bernama 'example.db' dalam folder 'data'\n",
    "connection = sqlite3.connect('data/example.db')\n",
    "\n",
    "# membuat antarmuka 'cursor' untuk mempersingkat penulisan kode\n",
    "cursor = connection.cursor()"
   ]
  },
  {
   "cell_type": "markdown",
   "metadata": {},
   "source": [
    "## CRUD database SQLite menggunakan Python"
   ]
  },
  {
   "cell_type": "markdown",
   "metadata": {},
   "source": [
    "### Membuat Tabel Baru"
   ]
  },
  {
   "cell_type": "markdown",
   "metadata": {},
   "source": [
    "Disini kita akan membuat tabel **nilai** dengan rancangan _field_ sebagai berikut:\n",
    "\n",
    "|_Field_|_Type_|_Value_|\n",
    "|:------|:----:|:------|\n",
    "|**id**|_Integer_|_Primary Key, Auto-increment_|\n",
    "|**nama**|_Text_| |\n",
    "|**gender**|_Text_| |\n",
    "|**nilai**|_Integer_| |"
   ]
  },
  {
   "cell_type": "code",
   "execution_count": 2,
   "metadata": {},
   "outputs": [],
   "source": [
    "# membuat tabel baru bernama 'nilai'\n",
    "cursor.execute(\n",
    "'''CREATE TABLE nilai(\n",
    "    id INTEGER PRIMARY KEY AUTOINCREMENT,\n",
    "    nama TEXT NOT NULL,\n",
    "    gender TEXT NOT NULL,\n",
    "    nilai INTEGER NOT NULL\n",
    ");''')\n",
    "\n",
    "# commit update (wajib dilakukan, jika tidak database tidak akan berubah)\n",
    "connection.commit()"
   ]
  },
  {
   "cell_type": "markdown",
   "metadata": {},
   "source": [
    "### Memasukkan _record_ data ke dalam tabel"
   ]
  },
  {
   "cell_type": "markdown",
   "metadata": {},
   "source": [
    "**Perhatian!** \\\n",
    "Untuk memasukkan record ke dalam tabel, operasi `.execute()` hanya dapat dilakukan sekali untuk setiap _record_"
   ]
  },
  {
   "cell_type": "code",
   "execution_count": 3,
   "metadata": {},
   "outputs": [],
   "source": [
    "# memasukkan record ke dalam tabel\n",
    "# PS : backspace digunakan untuk memecah perintah menjadi 2 baris\n",
    "cursor.execute('''INSERT INTO nilai ('nama','gender','nilai') \\\n",
    "                VALUES ('Alice','Wanita','90')''')\n",
    "cursor.execute('''INSERT INTO nilai ('nama','gender','nilai') \\\n",
    "                VALUES ('Bob','Pria','80')''')\n",
    "cursor.execute('''INSERT INTO nilai ('nama','gender','nilai') \\\n",
    "                VALUES ('Chuck','Pria','50')''')\n",
    "cursor.execute('''INSERT INTO nilai ('nama','gender','nilai') \\\n",
    "                VALUES ('Dan','Pria','70')''')\n",
    "cursor.execute('''INSERT INTO nilai ('nama','gender','nilai') \\\n",
    "                VALUES ('Eve','Wanita','50')''')\n",
    "cursor.execute('''INSERT INTO nilai ('nama','gender','nilai') \\\n",
    "                VALUES ('Faythe','Wanita','100')''')\n",
    "cursor.execute('''INSERT INTO nilai ('nama','gender','nilai') \\\n",
    "                VALUES ('Grace','Wanita','70')''')\n",
    "\n",
    "\n",
    "# jangan lupa commit\n",
    "connection.commit()"
   ]
  },
  {
   "cell_type": "markdown",
   "metadata": {},
   "source": [
    "### Menghapus _Record_"
   ]
  },
  {
   "cell_type": "code",
   "execution_count": 4,
   "metadata": {},
   "outputs": [],
   "source": [
    "# Berdasarkan id\n",
    "cursor.execute('''DELETE FROM nilai WHERE id = 1''')\n",
    "\n",
    "# Berdasarkan field lain\n",
    "cursor.execute('''DELETE FROM nilai WHERE nama = \"Alice\"''')\n",
    "               \n",
    "# jangan lupa commit\n",
    "connection.commit()"
   ]
  },
  {
   "cell_type": "markdown",
   "metadata": {},
   "source": [
    "### Mengubah _Record_"
   ]
  },
  {
   "cell_type": "code",
   "execution_count": 5,
   "metadata": {},
   "outputs": [],
   "source": [
    "# mengubah nilai Bob\n",
    "cursor.execute('''UPDATE nilai SET nilai = 75 WHERE nama = \"Bob\"''')\n",
    "\n",
    "# jangan lupa commit\n",
    "connection.commit()"
   ]
  },
  {
   "cell_type": "markdown",
   "metadata": {},
   "source": [
    "### Membaca Database menggunakan Pandas"
   ]
  },
  {
   "cell_type": "markdown",
   "metadata": {},
   "source": [
    "Untuk membaca tabel yang telah kita buat, kita dapat menggunakan bantuan _library_ **pandas** agar data terlihat lebih rapi serta mempermudah proses pengolahan data."
   ]
  },
  {
   "cell_type": "code",
   "execution_count": 6,
   "metadata": {},
   "outputs": [
    {
     "data": {
      "text/html": [
       "<div>\n",
       "<style scoped>\n",
       "    .dataframe tbody tr th:only-of-type {\n",
       "        vertical-align: middle;\n",
       "    }\n",
       "\n",
       "    .dataframe tbody tr th {\n",
       "        vertical-align: top;\n",
       "    }\n",
       "\n",
       "    .dataframe thead th {\n",
       "        text-align: right;\n",
       "    }\n",
       "</style>\n",
       "<table border=\"1\" class=\"dataframe\">\n",
       "  <thead>\n",
       "    <tr style=\"text-align: right;\">\n",
       "      <th></th>\n",
       "      <th>id</th>\n",
       "      <th>nama</th>\n",
       "      <th>gender</th>\n",
       "      <th>nilai</th>\n",
       "    </tr>\n",
       "  </thead>\n",
       "  <tbody>\n",
       "    <tr>\n",
       "      <td>0</td>\n",
       "      <td>2</td>\n",
       "      <td>Bob</td>\n",
       "      <td>Pria</td>\n",
       "      <td>75</td>\n",
       "    </tr>\n",
       "    <tr>\n",
       "      <td>1</td>\n",
       "      <td>3</td>\n",
       "      <td>Chuck</td>\n",
       "      <td>Pria</td>\n",
       "      <td>50</td>\n",
       "    </tr>\n",
       "    <tr>\n",
       "      <td>2</td>\n",
       "      <td>4</td>\n",
       "      <td>Dan</td>\n",
       "      <td>Pria</td>\n",
       "      <td>70</td>\n",
       "    </tr>\n",
       "  </tbody>\n",
       "</table>\n",
       "</div>"
      ],
      "text/plain": [
       "   id   nama gender  nilai\n",
       "0   2    Bob   Pria     75\n",
       "1   3  Chuck   Pria     50\n",
       "2   4    Dan   Pria     70"
      ]
     },
     "execution_count": 6,
     "metadata": {},
     "output_type": "execute_result"
    }
   ],
   "source": [
    "# impor pandas\n",
    "import pandas as pd\n",
    "\n",
    "# memasukkan tabel nilai ke dalam array\n",
    "nilai = pd.read_sql_query('''SELECT * FROM nilai''', connection)\n",
    "\n",
    "# cek hasil keluaran\n",
    "nilai.head(3)"
   ]
  },
  {
   "cell_type": "code",
   "execution_count": 7,
   "metadata": {},
   "outputs": [
    {
     "data": {
      "text/html": [
       "<div>\n",
       "<style scoped>\n",
       "    .dataframe tbody tr th:only-of-type {\n",
       "        vertical-align: middle;\n",
       "    }\n",
       "\n",
       "    .dataframe tbody tr th {\n",
       "        vertical-align: top;\n",
       "    }\n",
       "\n",
       "    .dataframe thead th {\n",
       "        text-align: right;\n",
       "    }\n",
       "</style>\n",
       "<table border=\"1\" class=\"dataframe\">\n",
       "  <thead>\n",
       "    <tr style=\"text-align: right;\">\n",
       "      <th></th>\n",
       "      <th>id</th>\n",
       "      <th>nama</th>\n",
       "      <th>gender</th>\n",
       "      <th>nilai</th>\n",
       "    </tr>\n",
       "  </thead>\n",
       "  <tbody>\n",
       "    <tr>\n",
       "      <td>0</td>\n",
       "      <td>2</td>\n",
       "      <td>Bob</td>\n",
       "      <td>Pria</td>\n",
       "      <td>75</td>\n",
       "    </tr>\n",
       "    <tr>\n",
       "      <td>1</td>\n",
       "      <td>3</td>\n",
       "      <td>Chuck</td>\n",
       "      <td>Pria</td>\n",
       "      <td>50</td>\n",
       "    </tr>\n",
       "    <tr>\n",
       "      <td>2</td>\n",
       "      <td>4</td>\n",
       "      <td>Dan</td>\n",
       "      <td>Pria</td>\n",
       "      <td>70</td>\n",
       "    </tr>\n",
       "    <tr>\n",
       "      <td>3</td>\n",
       "      <td>5</td>\n",
       "      <td>Eve</td>\n",
       "      <td>Wanita</td>\n",
       "      <td>50</td>\n",
       "    </tr>\n",
       "    <tr>\n",
       "      <td>4</td>\n",
       "      <td>6</td>\n",
       "      <td>Faythe</td>\n",
       "      <td>Wanita</td>\n",
       "      <td>100</td>\n",
       "    </tr>\n",
       "    <tr>\n",
       "      <td>5</td>\n",
       "      <td>7</td>\n",
       "      <td>Grace</td>\n",
       "      <td>Wanita</td>\n",
       "      <td>70</td>\n",
       "    </tr>\n",
       "  </tbody>\n",
       "</table>\n",
       "</div>"
      ],
      "text/plain": [
       "   id    nama  gender  nilai\n",
       "0   2     Bob    Pria     75\n",
       "1   3   Chuck    Pria     50\n",
       "2   4     Dan    Pria     70\n",
       "3   5     Eve  Wanita     50\n",
       "4   6  Faythe  Wanita    100\n",
       "5   7   Grace  Wanita     70"
      ]
     },
     "execution_count": 7,
     "metadata": {},
     "output_type": "execute_result"
    }
   ],
   "source": [
    "# atau untuk melihat keseluruhan tabel\n",
    "nilai"
   ]
  }
 ],
 "metadata": {
  "kernelspec": {
   "display_name": "Python 3",
   "language": "python",
   "name": "python3"
  },
  "language_info": {
   "codemirror_mode": {
    "name": "ipython",
    "version": 3
   },
   "file_extension": ".py",
   "mimetype": "text/x-python",
   "name": "python",
   "nbconvert_exporter": "python",
   "pygments_lexer": "ipython3",
   "version": "3.7.4"
  }
 },
 "nbformat": 4,
 "nbformat_minor": 2
}
