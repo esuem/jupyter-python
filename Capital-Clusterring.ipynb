{
 "cells": [
  {
   "cell_type": "markdown",
   "metadata": {},
   "source": [
    "# Latihan Clusterring menggunakan Python"
   ]
  },
  {
   "cell_type": "markdown",
   "metadata": {},
   "source": [
    "Pada latihan kali ini, kita akan mencoba mengelompokkan negara-negara di dunia berdasarkan letak astronomis Ibukota negaranya. Tujuannya untuk mencoba mengelompokkan negara-negara tersebut ke dalam kluster benua yang sesuai."
   ]
  },
  {
   "cell_type": "code",
   "execution_count": null,
   "metadata": {},
   "outputs": [],
   "source": [
    "#mari kita mulai dengan KMeans\n",
    "\n",
    "#impor library yang diperlukan\n",
    "import pandas as pd\n",
    "import numpy as np\n",
    "import matplotlib.pyplot as plt\n",
    "import seaborn as sns\n",
    "from sklearn.cluster import KMeans\n",
    "\n",
    "#set format scatterplot\n",
    "sns.set(style=\"whitegrid\")\n",
    "\n",
    "#load data\n",
    "df = pd.read_csv(\"data/capital.csv\")\n",
    "\n",
    "#test data\n",
    "df.head(5)"
   ]
  },
  {
   "cell_type": "code",
   "execution_count": null,
   "metadata": {},
   "outputs": [],
   "source": [
    "#set code sebagai index\n",
    "df.set_index('Code')\n",
    "\n",
    "#lihat tipe data\n",
    "tipedata = df.dtypes\n",
    "tipedata"
   ]
  },
  {
   "cell_type": "code",
   "execution_count": null,
   "metadata": {},
   "outputs": [],
   "source": [
    "#mengubah tipe data lat dan lon menjadi float\n",
    "df['Latitude']  = pd.to_numeric(df['Latitude'],errors='coerce')\n",
    "df['Longitude'] = pd.to_numeric(df['Longitude'],errors='coerce')\n",
    "\n",
    "tipedata = df.dtypes\n",
    "tipedata"
   ]
  },
  {
   "cell_type": "code",
   "execution_count": null,
   "metadata": {},
   "outputs": [],
   "source": [
    "df.head(5)"
   ]
  },
  {
   "cell_type": "code",
   "execution_count": null,
   "metadata": {},
   "outputs": [],
   "source": [
    "#plot the data\n",
    "plt.scatter(df['Longitude'],df['Latitude'])\n",
    "plt.ylim(-70,80)\n",
    "plt.xlim(-180,180)\n",
    "plt.show"
   ]
  },
  {
   "cell_type": "code",
   "execution_count": null,
   "metadata": {},
   "outputs": [],
   "source": [
    "'''\n",
    "Jika dilihat, terdapat beberapa negara Oceania yang karena letak astronomisnya\n",
    "tidak 'tersambung' dengan negara oceania lainnya, kita perlu melakukan sedikit intervensi data\n",
    "dengan 'memindah' negara tersebut ke sebelah timur\n",
    "'''\n",
    "\n",
    "# membuat fungsi pindah\n",
    "Longitude2 = []\n",
    "for i in df['Longitude']:\n",
    "    if i < -140:\n",
    "        i = i + 360\n",
    "        Longitude2.append(i)\n",
    "    else:\n",
    "        Longitude2.append(i)\n",
    "print(Longitude2)"
   ]
  },
  {
   "cell_type": "code",
   "execution_count": null,
   "metadata": {},
   "outputs": [],
   "source": [
    "#memasukkan nilai Longitude2 ke dalam data frame 'df2['Longitude']'\n",
    "df2 = df.copy()\n",
    "df2['Longitude'] = Longitude2\n",
    "\n",
    "df2.head(5)"
   ]
  },
  {
   "cell_type": "code",
   "execution_count": null,
   "metadata": {},
   "outputs": [],
   "source": [
    "#plot df2 ke dalam scatterplot\n",
    "plt.scatter(df['Longitude'],df['Latitude'])\n",
    "plt.ylim(-70,80)\n",
    "plt.xlim(-140,220)\n",
    "plt.show"
   ]
  },
  {
   "cell_type": "code",
   "execution_count": null,
   "metadata": {},
   "outputs": [],
   "source": [
    "# PERFECT!!!\n",
    "\n",
    "# menyiapkan tabel untuk dilakukan clusterring\n",
    "lib = df2.iloc[:,3:5]\n",
    "lib.dropna\n",
    "lib.head(5)\n"
   ]
  },
  {
   "cell_type": "code",
   "execution_count": null,
   "metadata": {},
   "outputs": [],
   "source": [
    "# Saatnya melakukan clusterring\n",
    "cluster = 6 #Jumlah 'benua' sebagai dasar clusterring\n",
    "KMeans(cluster).fit(lib)"
   ]
  },
  {
   "cell_type": "code",
   "execution_count": null,
   "metadata": {},
   "outputs": [],
   "source": [
    "df_km = df.copy()\n",
    "df_km['Cluster'] = KMeans(cluster).fit_predict(lib)\n",
    "df_km.head(10)"
   ]
  },
  {
   "cell_type": "code",
   "execution_count": null,
   "metadata": {},
   "outputs": [],
   "source": [
    "#plot hasil clusterring ke dalam scatterplot\n",
    "plt.scatter(df_km['Longitude'],df_km['Latitude'], c=df_km['Cluster'], cmap='rainbow')\n",
    "plt.ylim(-70,80)\n",
    "plt.xlim(-180,180)\n",
    "plt.show"
   ]
  },
  {
   "cell_type": "code",
   "execution_count": null,
   "metadata": {},
   "outputs": [],
   "source": [
    "df_km.to_csv('data/km.csv',index='false')"
   ]
  },
  {
   "cell_type": "code",
   "execution_count": null,
   "metadata": {},
   "outputs": [],
   "source": [
    "'''\n",
    "sepertinya hasilnya kurang memuaskan jika menggunakan KMeans\n",
    "bagaimana jika menggunakan algoritma Meanshift\n",
    "Meanshift adalah algoritma clusterring yang mampu menentukan jumlah cluster\n",
    "makin besar bandwith, makin sedikit jumlah clusternya\n",
    "'''\n",
    "from sklearn.cluster import MeanShift\n",
    "MeanShift(bandwidth=35).fit(lib)"
   ]
  },
  {
   "cell_type": "code",
   "execution_count": null,
   "metadata": {},
   "outputs": [],
   "source": [
    "df_ms = df.copy()\n",
    "df_ms['Cluster'] = MeanShift(bandwidth=35).fit_predict(lib)\n",
    "df_ms.head(10)"
   ]
  },
  {
   "cell_type": "code",
   "execution_count": null,
   "metadata": {},
   "outputs": [],
   "source": [
    "#plot hasil clusterring ke dalam scatterplot\n",
    "plt.scatter(df_ms['Longitude'],df_ms['Latitude'], c=df_ms['Cluster'], cmap='rainbow')\n",
    "plt.ylim(-70,80)\n",
    "plt.xlim(-180,180)\n",
    "plt.show"
   ]
  },
  {
   "cell_type": "code",
   "execution_count": null,
   "metadata": {},
   "outputs": [],
   "source": [
    "# hasilnya sedikit lebih baik\n",
    "# mari diekspor hasilnya\n",
    "df_ms.to_csv('data/ms.csv',index='false')"
   ]
  },
  {
   "cell_type": "markdown",
   "metadata": {},
   "source": [
    "Karena letak ibukota negara Asia cenderung saling berjauhan, hal tersebut membuat negara-negara Asia susah di cluster dalam satu cluster tunggal"
   ]
  }
 ],
 "metadata": {
  "kernelspec": {
   "display_name": "Python 3",
   "language": "python",
   "name": "python3"
  },
  "language_info": {
   "codemirror_mode": {
    "name": "ipython",
    "version": 3
   },
   "file_extension": ".py",
   "mimetype": "text/x-python",
   "name": "python",
   "nbconvert_exporter": "python",
   "pygments_lexer": "ipython3",
   "version": "3.7.4"
  }
 },
 "nbformat": 4,
 "nbformat_minor": 2
}
